{
 "cells": [
  {
   "cell_type": "markdown",
   "id": "930edfda-ca9d-4de1-8fd4-3ba2747d87cc",
   "metadata": {},
   "source": [
    "# Deepguard classifier\n",
    "\n",
    "This notebook contains the process for training a classifier to obtain more accurate results for predicting transformer failures"
   ]
  },
  {
   "cell_type": "markdown",
   "id": "4a22208c-d727-4871-870d-4805e611c3c0",
   "metadata": {},
   "source": [
    "## Importing libraries"
   ]
  },
  {
   "cell_type": "code",
   "execution_count": 10,
   "id": "f9bdd83d-1a78-4380-b2a2-c74c4c92f498",
   "metadata": {},
   "outputs": [],
   "source": [
    "import pandas as pd\n",
    "import os\n",
    "import csv\n",
    "import numpy as np\n",
    "from sklearn.ensemble import RandomForestClassifier\n",
    "from sklearn.model_selection import cross_val_score\n",
    "from sklearn.preprocessing import LabelEncoder\n",
    "import pickle"
   ]
  },
  {
   "cell_type": "markdown",
   "id": "7b17adcf-04fb-48ee-91df-98cd691bb395",
   "metadata": {},
   "source": [
    "## Gathering data\n",
    "The DGA dataset is the bigger we have, thus I will use only this one for the demonstration"
   ]
  },
  {
   "cell_type": "code",
   "execution_count": 11,
   "id": "c63f37ea-94e2-4ea2-83f1-ab5aadac7867",
   "metadata": {},
   "outputs": [],
   "source": [
    "base_raw_data_path = \"../raw_data\"\n",
    "df_dga = pd.read_excel(os.path.join(base_raw_data_path, \"DGA dataset.xlsx\"))"
   ]
  },
  {
   "cell_type": "code",
   "execution_count": 16,
   "id": "fb756928-dfc6-4958-956d-7b3843337736",
   "metadata": {},
   "outputs": [
    {
     "data": {
      "text/html": [
       "<div>\n",
       "<style scoped>\n",
       "    .dataframe tbody tr th:only-of-type {\n",
       "        vertical-align: middle;\n",
       "    }\n",
       "\n",
       "    .dataframe tbody tr th {\n",
       "        vertical-align: top;\n",
       "    }\n",
       "\n",
       "    .dataframe thead th {\n",
       "        text-align: right;\n",
       "    }\n",
       "</style>\n",
       "<table border=\"1\" class=\"dataframe\">\n",
       "  <thead>\n",
       "    <tr style=\"text-align: right;\">\n",
       "      <th></th>\n",
       "      <th>NM</th>\n",
       "      <th>H2</th>\n",
       "      <th>CH4</th>\n",
       "      <th>C2H6</th>\n",
       "      <th>C2H4</th>\n",
       "      <th>C2H2</th>\n",
       "      <th>Type</th>\n",
       "      <th>class</th>\n",
       "    </tr>\n",
       "  </thead>\n",
       "  <tbody>\n",
       "    <tr>\n",
       "      <th>0</th>\n",
       "      <td>1</td>\n",
       "      <td>3930.0</td>\n",
       "      <td>2397.0</td>\n",
       "      <td>157.0</td>\n",
       "      <td>0.0</td>\n",
       "      <td>0.0</td>\n",
       "      <td>Partial discharge</td>\n",
       "      <td>PD - Partial Discharges</td>\n",
       "    </tr>\n",
       "    <tr>\n",
       "      <th>1</th>\n",
       "      <td>2</td>\n",
       "      <td>37800.0</td>\n",
       "      <td>1740.0</td>\n",
       "      <td>249.0</td>\n",
       "      <td>8.0</td>\n",
       "      <td>8.0</td>\n",
       "      <td>Partial discharge</td>\n",
       "      <td>PD - Partial Discharges</td>\n",
       "    </tr>\n",
       "    <tr>\n",
       "      <th>2</th>\n",
       "      <td>3</td>\n",
       "      <td>92600.0</td>\n",
       "      <td>10200.0</td>\n",
       "      <td>0.0</td>\n",
       "      <td>0.0</td>\n",
       "      <td>0.0</td>\n",
       "      <td>Partial discharge</td>\n",
       "      <td>PD - Partial Discharges</td>\n",
       "    </tr>\n",
       "    <tr>\n",
       "      <th>3</th>\n",
       "      <td>4</td>\n",
       "      <td>8266.0</td>\n",
       "      <td>1061.0</td>\n",
       "      <td>22.0</td>\n",
       "      <td>0.0</td>\n",
       "      <td>0.0</td>\n",
       "      <td>Partial discharge</td>\n",
       "      <td>PD - Partial Discharges</td>\n",
       "    </tr>\n",
       "    <tr>\n",
       "      <th>4</th>\n",
       "      <td>5</td>\n",
       "      <td>9340.0</td>\n",
       "      <td>995.0</td>\n",
       "      <td>60.0</td>\n",
       "      <td>6.0</td>\n",
       "      <td>7.0</td>\n",
       "      <td>Partial discharge</td>\n",
       "      <td>PD - Partial Discharges</td>\n",
       "    </tr>\n",
       "    <tr>\n",
       "      <th>...</th>\n",
       "      <td>...</td>\n",
       "      <td>...</td>\n",
       "      <td>...</td>\n",
       "      <td>...</td>\n",
       "      <td>...</td>\n",
       "      <td>...</td>\n",
       "      <td>...</td>\n",
       "      <td>...</td>\n",
       "    </tr>\n",
       "    <tr>\n",
       "      <th>196</th>\n",
       "      <td>197</td>\n",
       "      <td>24700.0</td>\n",
       "      <td>61000.0</td>\n",
       "      <td>26300.0</td>\n",
       "      <td>42100.0</td>\n",
       "      <td>1560.0</td>\n",
       "      <td>Low/Middle-temperature overheating</td>\n",
       "      <td>T1 and T2 - Thermal Faults &lt; 700 °C</td>\n",
       "    </tr>\n",
       "    <tr>\n",
       "      <th>197</th>\n",
       "      <td>198</td>\n",
       "      <td>14.0</td>\n",
       "      <td>44.0</td>\n",
       "      <td>124.0</td>\n",
       "      <td>7.0</td>\n",
       "      <td>1.0</td>\n",
       "      <td>Low/Middle-temperature overheating</td>\n",
       "      <td>T1 and T2 - Thermal Faults &lt; 700 °C</td>\n",
       "    </tr>\n",
       "    <tr>\n",
       "      <th>198</th>\n",
       "      <td>199</td>\n",
       "      <td>2031.0</td>\n",
       "      <td>149.0</td>\n",
       "      <td>20.0</td>\n",
       "      <td>3.0</td>\n",
       "      <td>0.0</td>\n",
       "      <td>Low/Middle-temperature overheating</td>\n",
       "      <td>T1 and T2 - Thermal Faults &lt; 700 °C</td>\n",
       "    </tr>\n",
       "    <tr>\n",
       "      <th>199</th>\n",
       "      <td>200</td>\n",
       "      <td>480.0</td>\n",
       "      <td>1075.0</td>\n",
       "      <td>298.0</td>\n",
       "      <td>1132.0</td>\n",
       "      <td>0.0</td>\n",
       "      <td>Low/Middle-temperature overheating</td>\n",
       "      <td>T1 and T2 - Thermal Faults &lt; 700 °C</td>\n",
       "    </tr>\n",
       "    <tr>\n",
       "      <th>200</th>\n",
       "      <td>201</td>\n",
       "      <td>40000.0</td>\n",
       "      <td>400.0</td>\n",
       "      <td>70.0</td>\n",
       "      <td>600.0</td>\n",
       "      <td>6.0</td>\n",
       "      <td>Low/Middle-temperature overheating</td>\n",
       "      <td>T1 and T2 - Thermal Faults &lt; 700 °C</td>\n",
       "    </tr>\n",
       "  </tbody>\n",
       "</table>\n",
       "<p>201 rows × 8 columns</p>\n",
       "</div>"
      ],
      "text/plain": [
       "      NM       H2      CH4     C2H6     C2H4    C2H2  \\\n",
       "0      1   3930.0   2397.0    157.0      0.0     0.0   \n",
       "1      2  37800.0   1740.0    249.0      8.0     8.0   \n",
       "2      3  92600.0  10200.0      0.0      0.0     0.0   \n",
       "3      4   8266.0   1061.0     22.0      0.0     0.0   \n",
       "4      5   9340.0    995.0     60.0      6.0     7.0   \n",
       "..   ...      ...      ...      ...      ...     ...   \n",
       "196  197  24700.0  61000.0  26300.0  42100.0  1560.0   \n",
       "197  198     14.0     44.0    124.0      7.0     1.0   \n",
       "198  199   2031.0    149.0     20.0      3.0     0.0   \n",
       "199  200    480.0   1075.0    298.0   1132.0     0.0   \n",
       "200  201  40000.0    400.0     70.0    600.0     6.0   \n",
       "\n",
       "                                   Type                                class  \n",
       "0                     Partial discharge              PD - Partial Discharges  \n",
       "1                     Partial discharge              PD - Partial Discharges  \n",
       "2                     Partial discharge              PD - Partial Discharges  \n",
       "3                     Partial discharge              PD - Partial Discharges  \n",
       "4                     Partial discharge              PD - Partial Discharges  \n",
       "..                                  ...                                  ...  \n",
       "196  Low/Middle-temperature overheating  T1 and T2 - Thermal Faults < 700 °C  \n",
       "197  Low/Middle-temperature overheating  T1 and T2 - Thermal Faults < 700 °C  \n",
       "198  Low/Middle-temperature overheating  T1 and T2 - Thermal Faults < 700 °C  \n",
       "199  Low/Middle-temperature overheating  T1 and T2 - Thermal Faults < 700 °C  \n",
       "200  Low/Middle-temperature overheating  T1 and T2 - Thermal Faults < 700 °C  \n",
       "\n",
       "[201 rows x 8 columns]"
      ]
     },
     "execution_count": 16,
     "metadata": {},
     "output_type": "execute_result"
    }
   ],
   "source": [
    "df_dga"
   ]
  },
  {
   "cell_type": "markdown",
   "id": "e90e6135-fccc-43e9-85bb-0fea2ce80372",
   "metadata": {},
   "source": [
    "## Uniforming data\n",
    "Here we map the fault type in the standard duval naming convention"
   ]
  },
  {
   "cell_type": "code",
   "execution_count": 13,
   "id": "86989bac-288b-42c3-9117-40096393ddc8",
   "metadata": {},
   "outputs": [],
   "source": [
    "dga2duval = {\n",
    " \"Spark discharge\": 'D1 - Discharges of Low Energy',\n",
    " \"Arc discharge\": 'D2 - Discharges of High Energy',\n",
    " \"N\": 'Normal',\n",
    " \"Partial discharge\": 'PD - Partial Discharges',\n",
    " \"Low-temperature overheating\": 'T1 and T2 - Thermal Faults < 700 °C',\n",
    " \"Middle-temperature overheating\": 'T1 and T2 - Thermal Faults < 700 °C',\n",
    " \"Low/Middle-temperature overheating\": 'T1 and T2 - Thermal Faults < 700 °C',\n",
    " \"High-temperature overheating\": 'T3 - Thermal Faults > 700 °C '\n",
    "}\n",
    "\n",
    "df_dga['class'] = [dga2duval[x] for x in df_dga['Type']]"
   ]
  },
  {
   "cell_type": "code",
   "execution_count": 15,
   "id": "e1e692e2-81e4-4d3f-8a30-06d20fe08da6",
   "metadata": {},
   "outputs": [
    {
     "data": {
      "text/plain": [
       "<Axes: xlabel='class'>"
      ]
     },
     "execution_count": 15,
     "metadata": {},
     "output_type": "execute_result"
    },
    {
     "data": {
      "image/png": "[encoded data removed]",
      "text/plain": [
       "<Figure size 640x480 with 1 Axes>"
      ]
     },
     "metadata": {},
     "output_type": "display_data"
    }
   ],
   "source": [
    "df_dga['class'].value_counts().plot.bar()"
   ]
  },
  {
   "cell_type": "markdown",
   "id": "9782a959-7900-49d7-bb59-608334de2f8f",
   "metadata": {},
   "source": [
    "Checking for null values. Here we can see there aren't so we can go on skipping the filling process"
   ]
  },
  {
   "cell_type": "code",
   "execution_count": 18,
   "id": "fd2b80c6-ca28-4d2c-8dc8-694975dc5cf3",
   "metadata": {},
   "outputs": [
    {
     "data": {
      "text/plain": [
       "NM       0\n",
       "H2       0\n",
       "CH4      0\n",
       "C2H6     0\n",
       "C2H4     0\n",
       "C2H2     0\n",
       "Type     0\n",
       "class    0\n",
       "dtype: int64"
      ]
     },
     "execution_count": 18,
     "metadata": {},
     "output_type": "execute_result"
    }
   ],
   "source": [
    "df_dga.isna().sum()"
   ]
  },
  {
   "cell_type": "markdown",
   "id": "bd77846e-9b68-4635-afb6-5d5a8238d00b",
   "metadata": {},
   "source": [
    "## Labeling\n",
    "Here we convert our string in integer values, so the model can process this type"
   ]
  },
  {
   "cell_type": "code",
   "execution_count": 19,
   "id": "3f9a2c9f-7db7-47e9-b0f5-45bf287d1b00",
   "metadata": {},
   "outputs": [
    {
     "name": "stdout",
     "output_type": "stream",
     "text": [
      "['T1 and T2 - Thermal Faults < 700 °C', 'T3 - Thermal Faults > 700 °C ', 'PD - Partial Discharges', 'D1 - Discharges of Low Energy', 'D2 - Discharges of High Energy']\n",
      "[3 4 2 0 1]\n",
      "['D1 - Discharges of Low Energy' 'D2 - Discharges of High Energy']\n"
     ]
    }
   ],
   "source": [
    "classes = list(set(df_dga['class'].tolist()))\n",
    "print(classes)\n",
    "le = LabelEncoder()\n",
    "le.fit(classes)\n",
    "print(le.transform(classes))\n",
    "# Running this command: le.inverse_transform([0, 1])\n",
    "# we can get back the info from Int to String"
   ]
  },
  {
   "cell_type": "code",
   "execution_count": 20,
   "id": "0d5ef7f7-13dc-4d1d-8327-d40340f80cfe",
   "metadata": {},
   "outputs": [
    {
     "name": "stdout",
     "output_type": "stream",
     "text": [
      "201 201\n"
     ]
    }
   ],
   "source": [
    "selected_columns = ['H2', 'CH4', 'C2H2', 'C2H4', 'C2H6'] #, 'CO','CO2'\n",
    "x_conc = df_dga[selected_columns].to_numpy()\n",
    "y_conc = le.transform(df_dga['class'])\n",
    "print(len(x_conc), len(y_conc))"
   ]
  },
  {
   "cell_type": "code",
   "execution_count": 21,
   "id": "6b2d388b-8f86-4335-ab1c-15e59069cc34",
   "metadata": {},
   "outputs": [
    {
     "data": {
      "text/plain": [
       "0.701904761904762"
      ]
     },
     "execution_count": 21,
     "metadata": {},
     "output_type": "execute_result"
    }
   ],
   "source": [
    "clf = RandomForestClassifier(n_estimators=100, max_depth=10, class_weight=\"balanced\" , min_samples_leaf=3, min_samples_split=2, random_state=0)\n",
    "scores = cross_val_score(clf, x_conc, y_conc, cv=10)\n",
    "scores.mean()"
   ]
  },
  {
   "cell_type": "code",
   "execution_count": null,
   "id": "b5a2dda8-abab-4ffa-a466-dab35c10669e",
   "metadata": {},
   "outputs": [],
   "source": [
    "# Provare a testare il modello dandogli in pasto dei numeri"
   ]
  },
  {
   "cell_type": "markdown",
   "id": "4008dd26-f06c-4e06-9d25-b218f1b68109",
   "metadata": {},
   "source": [
    "## Salvataggio modello in pickle"
   ]
  },
  {
   "cell_type": "code",
   "execution_count": 22,
   "id": "a8a798b4-d3d7-4801-a60c-3e022e249e0d",
   "metadata": {},
   "outputs": [],
   "source": [
    "import pickle\n",
    "models_path = '../models'\n",
    "# save le\n",
    "with open(os.path.join(models_path,'label_encoder.pkl'), 'wb') as f:\n",
    "    pickle.dump(le, f)\n",
    "\n",
    "# save pkl\n",
    "with open(os.path.join(models_path,'model.pkl'), 'wb') as f:\n",
    "    pickle.dump(clf, f)"
   ]
  },
  {
   "cell_type": "markdown",
   "id": "26f83125-af03-4b19-af73-00b763d09092",
   "metadata": {},
   "source": [
    "## Load model from pickle"
   ]
  },
  {
   "cell_type": "code",
   "execution_count": null,
   "id": "c8da8d77-c1b8-499d-930d-67506c8d3271",
   "metadata": {},
   "outputs": [],
   "source": [
    "import pickle\n",
    "models_path = '../models'\n",
    "\n",
    "# load le\n",
    "with open(os.path.join(models_path,'label_encoder.pkl'), 'rb') as f:\n",
    "    le = pickle.load(f)\n",
    "\n",
    "# load pkl\n",
    "with open(os.path.join(models_path,'model.pkl'), 'rb') as f:\n",
    "    clf = pickle.load(f)"
   ]
  }
 ],
 "metadata": {
  "kernelspec": {
   "display_name": "Python 3 (ipykernel)",
   "language": "python",
   "name": "python3"
  },
  "language_info": {
   "codemirror_mode": {
    "name": "ipython",
    "version": 3
   },
   "file_extension": ".py",
   "mimetype": "text/x-python",
   "name": "python",
   "nbconvert_exporter": "python",
   "pygments_lexer": "ipython3",
   "version": "3.10.12"
  }
 },
 "nbformat": 4,
 "nbformat_minor": 5
}
